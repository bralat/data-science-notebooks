{
 "cells": [
  {
   "cell_type": "markdown",
   "metadata": {},
   "source": [
    "## LEFT JOIN EXAMPLE\n",
    "This notebook demonstrates a simple left join. We will do so by creating two dataframes. One will contain our books while the other contains the types of books. Then we will merge them into a single table so that we have the ids of the book types and book names together. After that, we will remove redundant columns and rename some.\n",
    "\n",
    "Why go through all this trouble? Well, this is most useful when you are dealing with data that is going to end up in a SQL Database. SQL is relational; that means, instead of repeating certain pieces of data throughout your database, you can store them in separate tables and link them by a unique id. You can read up on it [here](https://en.wikipedia.org/wiki/Relational_database)\n",
    "\n",
    "First things first. We import our pandas package"
   ]
  },
  {
   "cell_type": "code",
   "execution_count": 1,
   "metadata": {},
   "outputs": [],
   "source": [
    "import pandas as pd"
   ]
  },
  {
   "cell_type": "markdown",
   "metadata": {},
   "source": [
    "Next, we create a pandas dataframe that will contain the list of books we have in stock. We can do this by using a dictionary or a list. We will use a dictionary for this dataframe."
   ]
  },
  {
   "cell_type": "code",
   "execution_count": 2,
   "metadata": {},
   "outputs": [
    {
     "output_type": "execute_result",
     "data": {
      "text/plain": "                                   Book                   Author    Type\n0          Secrets of the Bending Grove           N. Maria Kwami   Novel\n1                            Americanah  Chimamanda Ngozi Adiche   Novel\n2  AI: Human Rights, Social Justice ...               Article 19  Report",
      "text/html": "<div>\n<style scoped>\n    .dataframe tbody tr th:only-of-type {\n        vertical-align: middle;\n    }\n\n    .dataframe tbody tr th {\n        vertical-align: top;\n    }\n\n    .dataframe thead th {\n        text-align: right;\n    }\n</style>\n<table border=\"1\" class=\"dataframe\">\n  <thead>\n    <tr style=\"text-align: right;\">\n      <th></th>\n      <th>Book</th>\n      <th>Author</th>\n      <th>Type</th>\n    </tr>\n  </thead>\n  <tbody>\n    <tr>\n      <th>0</th>\n      <td>Secrets of the Bending Grove</td>\n      <td>N. Maria Kwami</td>\n      <td>Novel</td>\n    </tr>\n    <tr>\n      <th>1</th>\n      <td>Americanah</td>\n      <td>Chimamanda Ngozi Adiche</td>\n      <td>Novel</td>\n    </tr>\n    <tr>\n      <th>2</th>\n      <td>AI: Human Rights, Social Justice ...</td>\n      <td>Article 19</td>\n      <td>Report</td>\n    </tr>\n  </tbody>\n</table>\n</div>"
     },
     "metadata": {},
     "execution_count": 2
    }
   ],
   "source": [
    "books = pd.DataFrame({\n",
    "    'Book': ['Secrets of the Bending Grove', 'Americanah', 'AI: Human Rights, Social Justice ...'],\n",
    "    'Author': ['N. Maria Kwami', 'Chimamanda Ngozi Adiche', 'Article 19'],\n",
    "    'Type': ['Novel', 'Novel', 'Report']\n",
    "})\n",
    "books"
   ]
  },
  {
   "cell_type": "markdown",
   "metadata": {},
   "source": [
    "Create another pandas data frame that will contain the types of books we have. This time, we will use the list method"
   ]
  },
  {
   "cell_type": "code",
   "execution_count": 3,
   "metadata": {},
   "outputs": [
    {
     "output_type": "execute_result",
     "data": {
      "text/plain": "  id    Name\n0  1   Novel\n1  2  Report",
      "text/html": "<div>\n<style scoped>\n    .dataframe tbody tr th:only-of-type {\n        vertical-align: middle;\n    }\n\n    .dataframe tbody tr th {\n        vertical-align: top;\n    }\n\n    .dataframe thead th {\n        text-align: right;\n    }\n</style>\n<table border=\"1\" class=\"dataframe\">\n  <thead>\n    <tr style=\"text-align: right;\">\n      <th></th>\n      <th>id</th>\n      <th>Name</th>\n    </tr>\n  </thead>\n  <tbody>\n    <tr>\n      <th>0</th>\n      <td>1</td>\n      <td>Novel</td>\n    </tr>\n    <tr>\n      <th>1</th>\n      <td>2</td>\n      <td>Report</td>\n    </tr>\n  </tbody>\n</table>\n</div>"
     },
     "metadata": {},
     "execution_count": 3
    }
   ],
   "source": [
    "types = pd.DataFrame([['1', 'Novel'], ['2', 'Report']], columns=['id', 'Name'])\n",
    "types"
   ]
  },
  {
   "cell_type": "markdown",
   "metadata": {},
   "source": [
    "Now perform a `left join`. If you are not conversant with left joins, they are a way to merge two tables. It's called `left` because the data is brought in from the table on the right to the table on the left. In the example below, `books` is the left table while `types` is the right table. You can read up on it here [here](https://www.w3schools.com/sql/sql_join_left.asp)"
   ]
  },
  {
   "cell_type": "code",
   "execution_count": 4,
   "metadata": {},
   "outputs": [
    {
     "output_type": "execute_result",
     "data": {
      "text/plain": "                                   Book                   Author    Type id  \\\n0          Secrets of the Bending Grove           N. Maria Kwami   Novel  1   \n1                            Americanah  Chimamanda Ngozi Adiche   Novel  1   \n2  AI: Human Rights, Social Justice ...               Article 19  Report  2   \n\n     Name  \n0   Novel  \n1   Novel  \n2  Report  ",
      "text/html": "<div>\n<style scoped>\n    .dataframe tbody tr th:only-of-type {\n        vertical-align: middle;\n    }\n\n    .dataframe tbody tr th {\n        vertical-align: top;\n    }\n\n    .dataframe thead th {\n        text-align: right;\n    }\n</style>\n<table border=\"1\" class=\"dataframe\">\n  <thead>\n    <tr style=\"text-align: right;\">\n      <th></th>\n      <th>Book</th>\n      <th>Author</th>\n      <th>Type</th>\n      <th>id</th>\n      <th>Name</th>\n    </tr>\n  </thead>\n  <tbody>\n    <tr>\n      <th>0</th>\n      <td>Secrets of the Bending Grove</td>\n      <td>N. Maria Kwami</td>\n      <td>Novel</td>\n      <td>1</td>\n      <td>Novel</td>\n    </tr>\n    <tr>\n      <th>1</th>\n      <td>Americanah</td>\n      <td>Chimamanda Ngozi Adiche</td>\n      <td>Novel</td>\n      <td>1</td>\n      <td>Novel</td>\n    </tr>\n    <tr>\n      <th>2</th>\n      <td>AI: Human Rights, Social Justice ...</td>\n      <td>Article 19</td>\n      <td>Report</td>\n      <td>2</td>\n      <td>Report</td>\n    </tr>\n  </tbody>\n</table>\n</div>"
     },
     "metadata": {},
     "execution_count": 4
    }
   ],
   "source": [
    "books_types = pd.merge(books, types, left_on=\"Type\", right_on=\"Name\")\n",
    "books_types"
   ]
  },
  {
   "cell_type": "markdown",
   "metadata": {},
   "source": [
    "In some cases, especially when dealing with large data sets, there might be duplicates, Fortunately for us, we have none of that."
   ]
  },
  {
   "cell_type": "code",
   "execution_count": 5,
   "metadata": {},
   "outputs": [
    {
     "output_type": "execute_result",
     "data": {
      "text/plain": "Empty DataFrame\nColumns: [Book, Author, Type, id, Name]\nIndex: []",
      "text/html": "<div>\n<style scoped>\n    .dataframe tbody tr th:only-of-type {\n        vertical-align: middle;\n    }\n\n    .dataframe tbody tr th {\n        vertical-align: top;\n    }\n\n    .dataframe thead th {\n        text-align: right;\n    }\n</style>\n<table border=\"1\" class=\"dataframe\">\n  <thead>\n    <tr style=\"text-align: right;\">\n      <th></th>\n      <th>Book</th>\n      <th>Author</th>\n      <th>Type</th>\n      <th>id</th>\n      <th>Name</th>\n    </tr>\n  </thead>\n  <tbody>\n  </tbody>\n</table>\n</div>"
     },
     "metadata": {},
     "execution_count": 5
    }
   ],
   "source": [
    "rows = books_types.duplicated(subset=[\"Book\"])\n",
    "books_types[rows]"
   ]
  },
  {
   "cell_type": "markdown",
   "metadata": {},
   "source": [
    "A quick glance at the the `books_types` dataframe will show that we do not need the `Type` and `Name` columms anymore, because we have the `id` of the book types. If we wanted to know the type, we could find it by looking up the `id` in the `types` dataframe.\n",
    "\n",
    "We therefore drop the `Type` and `Name` columns"
   ]
  },
  {
   "cell_type": "code",
   "execution_count": 6,
   "metadata": {},
   "outputs": [
    {
     "output_type": "execute_result",
     "data": {
      "text/plain": "                                   Book                   Author id\n0          Secrets of the Bending Grove           N. Maria Kwami  1\n1                            Americanah  Chimamanda Ngozi Adiche  1\n2  AI: Human Rights, Social Justice ...               Article 19  2",
      "text/html": "<div>\n<style scoped>\n    .dataframe tbody tr th:only-of-type {\n        vertical-align: middle;\n    }\n\n    .dataframe tbody tr th {\n        vertical-align: top;\n    }\n\n    .dataframe thead th {\n        text-align: right;\n    }\n</style>\n<table border=\"1\" class=\"dataframe\">\n  <thead>\n    <tr style=\"text-align: right;\">\n      <th></th>\n      <th>Book</th>\n      <th>Author</th>\n      <th>id</th>\n    </tr>\n  </thead>\n  <tbody>\n    <tr>\n      <th>0</th>\n      <td>Secrets of the Bending Grove</td>\n      <td>N. Maria Kwami</td>\n      <td>1</td>\n    </tr>\n    <tr>\n      <th>1</th>\n      <td>Americanah</td>\n      <td>Chimamanda Ngozi Adiche</td>\n      <td>1</td>\n    </tr>\n    <tr>\n      <th>2</th>\n      <td>AI: Human Rights, Social Justice ...</td>\n      <td>Article 19</td>\n      <td>2</td>\n    </tr>\n  </tbody>\n</table>\n</div>"
     },
     "metadata": {},
     "execution_count": 6
    }
   ],
   "source": [
    "books_types = books_types.drop(['Type', 'Name'], axis=1)\n",
    "books_types"
   ]
  },
  {
   "cell_type": "markdown",
   "metadata": {},
   "source": [
    "Lastly, we don't want to be ambiguous in our naming. The `id` column is the `type id` and not the `id` of that row. So we use the code below to rename that column."
   ]
  },
  {
   "cell_type": "code",
   "execution_count": 7,
   "metadata": {},
   "outputs": [
    {
     "output_type": "execute_result",
     "data": {
      "text/plain": "                                   Book                   Author Type Id\n0          Secrets of the Bending Grove           N. Maria Kwami       1\n1                            Americanah  Chimamanda Ngozi Adiche       1\n2  AI: Human Rights, Social Justice ...               Article 19       2",
      "text/html": "<div>\n<style scoped>\n    .dataframe tbody tr th:only-of-type {\n        vertical-align: middle;\n    }\n\n    .dataframe tbody tr th {\n        vertical-align: top;\n    }\n\n    .dataframe thead th {\n        text-align: right;\n    }\n</style>\n<table border=\"1\" class=\"dataframe\">\n  <thead>\n    <tr style=\"text-align: right;\">\n      <th></th>\n      <th>Book</th>\n      <th>Author</th>\n      <th>Type Id</th>\n    </tr>\n  </thead>\n  <tbody>\n    <tr>\n      <th>0</th>\n      <td>Secrets of the Bending Grove</td>\n      <td>N. Maria Kwami</td>\n      <td>1</td>\n    </tr>\n    <tr>\n      <th>1</th>\n      <td>Americanah</td>\n      <td>Chimamanda Ngozi Adiche</td>\n      <td>1</td>\n    </tr>\n    <tr>\n      <th>2</th>\n      <td>AI: Human Rights, Social Justice ...</td>\n      <td>Article 19</td>\n      <td>2</td>\n    </tr>\n  </tbody>\n</table>\n</div>"
     },
     "metadata": {},
     "execution_count": 7
    }
   ],
   "source": [
    "books_types.rename(columns={'id': 'Type Id'}, inplace=True)\n",
    "books_types"
   ]
  },
  {
   "cell_type": "markdown",
   "metadata": {},
   "source": [
    "That's it! I hope you had as much fun as I did writing this :)"
   ]
  }
 ],
 "metadata": {
  "kernelspec": {
   "display_name": "Python 3.7.6 64-bit ('base': conda)",
   "language": "python",
   "name": "python_defaultSpec_1597261496276"
  },
  "language_info": {
   "codemirror_mode": {
    "name": "ipython",
    "version": 3
   },
   "file_extension": ".py",
   "mimetype": "text/x-python",
   "name": "python",
   "nbconvert_exporter": "python",
   "pygments_lexer": "ipython3",
   "version": "3.7.6-final"
  }
 },
 "nbformat": 4,
 "nbformat_minor": 2
}