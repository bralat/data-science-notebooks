{
 "cells": [
  {
   "cell_type": "markdown",
   "metadata": {},
   "source": [
    "## LEFT JOIN EXAMPLE\n",
    "This notebook demonstrates a simple left join. We will do so by creating two dataframes. One will contain our books while the other contains the types of books. Then we will merge them into a single table so that we have the ids of the book types and book names together. After that, we will remove redundant columsn and rename some.\n",
    "\n",
    "Why go through all this trouble? Well this is most useful when you are dealing with data that is going to end up in a SQL Database. SQL is relational. That means, instead of repeating certain pieces of data throughout your database, you can store them in a separate table and link them to rows in other tables by a unique id. You can read up on it [here](https://en.wikipedia.org/wiki/Relational_database)\n",
    "\n",
    "First things first. We import our pandas package"
   ]
  },
  {
   "cell_type": "code",
   "execution_count": null,
   "metadata": {},
   "outputs": [],
   "source": [
    "import pandas as pd"
   ]
  },
  {
   "cell_type": "markdown",
   "metadata": {},
   "source": [
    "Next, we create a pandas dataframe using a dictionary. This dataframe will contain the list of books we have in stock"
   ]
  },
  {
   "cell_type": "code",
   "execution_count": null,
   "metadata": {},
   "outputs": [],
   "source": [
    "inst = pd.DataFrame({\n",
    "    'Book': ['Secrets of the Bending Grove', 'Americanah', 'AI: Human Rights, Social Justice ...'],\n",
    "    'Author': ['N. Maria Kwami', 'Chimamanda Ngozi Adiche', 'Article 19'],\n",
    "    'Type': ['Novel', 'Novel', 'Report']\n",
    "})\n",
    "inst"
   ]
  },
  {
   "cell_type": "markdown",
   "metadata": {},
   "source": [
    "Create another pandas data frame using the lists method. This dataframe will contain the types of books we have."
   ]
  },
  {
   "cell_type": "code",
   "execution_count": null,
   "metadata": {},
   "outputs": [],
   "source": [
    "types = pd.DataFrame([['1', 'Novel'], ['2', 'Report']], columns=['id', 'Name'])\n",
    "types"
   ]
  },
  {
   "cell_type": "markdown",
   "metadata": {},
   "source": [
    "Now perform a `left join`. If you are not conversant with left joins, they are a way to bring in data from one table to their matching rows in another table. That explains the join part. It's called `left` because the data is brought in from the table on the right to the table on the left. In the example below, `inst` is the left table while `types` is the right table. You can read up on it here [here](https://www.w3schools.com/sql/sql_join_left.asp)"
   ]
  },
  {
   "cell_type": "code",
   "execution_count": null,
   "metadata": {},
   "outputs": [],
   "source": [
    "inst_types = pd.merge(inst, types, left_on=\"Type\", right_on=\"Name\")\n",
    "inst_types"
   ]
  },
  {
   "cell_type": "markdown",
   "metadata": {},
   "source": [
    "In some cases, especially when dealing with large data sets, there might be duplicates, Fortunately for us, we have none of that."
   ]
  },
  {
   "cell_type": "code",
   "execution_count": null,
   "metadata": {},
   "outputs": [],
   "source": [
    "rows = inst_types.duplicated(subset=[\"Book\"])\n",
    "inst_types[rows]"
   ]
  }
 ],
 "metadata": {
  "kernelspec": {
   "display_name": "Python 3",
   "language": "python",
   "name": "python3"
  },
  "language_info": {
   "codemirror_mode": {
    "name": "ipython",
    "version": 3
   },
   "file_extension": ".py",
   "mimetype": "text/x-python",
   "name": "python",
   "nbconvert_exporter": "python",
   "pygments_lexer": "ipython3",
   "version": "3.6.5"
  }
 },
 "nbformat": 4,
 "nbformat_minor": 2
}
